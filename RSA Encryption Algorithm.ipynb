{
 "cells": [
  {
   "cell_type": "markdown",
   "metadata": {},
   "source": [
    "# Experiment 8"
   ]
  },
  {
   "cell_type": "markdown",
   "metadata": {},
   "source": [
    "# Param Nagda"
   ]
  },
  {
   "cell_type": "markdown",
   "metadata": {},
   "source": [
    "# Roll No- C035"
   ]
  },
  {
   "cell_type": "code",
   "execution_count": 19,
   "metadata": {},
   "outputs": [],
   "source": [
    "# Program to find gcd of two numbers\n",
    "def euclid(m,n):\n",
    "  if n==0:\n",
    "    return m\n",
    "  else:\n",
    "    r= m%n\n",
    "    return euclid(n,r)\n",
    "\n",
    "#Program to find Multiplicative inverse\n",
    "def exteuclid(a,b):\n",
    "  r1=a\n",
    "  r2=b\n",
    "  s1= int(1)\n",
    "  s2= int(0)\n",
    "  t1= int(0)\n",
    "  t2= int(1)\n",
    "  while r2>0:\n",
    "    q= r1//r2\n",
    "    r= r1-q*r2\n",
    "    r1= r2\n",
    "    r2 = r\n",
    "    s= s1-q*s2\n",
    "    s1=s2\n",
    "    s2=s\n",
    "    t= t1-q*t2\n",
    "    t1=t2\n",
    "    t2=t\n",
    "  if t1<0:\n",
    "    t1= t1%a\n",
    "  return (r1,t1)"
   ]
  },
  {
   "cell_type": "code",
   "execution_count": 26,
   "metadata": {},
   "outputs": [
    {
     "name": "stdout",
     "output_type": "stream",
     "text": [
      "Enter the first prime number: 17\n",
      "Enter the second prime number: 11\n",
      "Enter the plain text number to be encrypted100\n",
      "187\n"
     ]
    }
   ],
   "source": [
    "# Enter two large prime numbers\n",
    "p= int(input(\"Enter the first prime number: \"))\n",
    "q= int(input(\"Enter the second prime number: \"))\n",
    "PT= int(input(\"Enter the plain text number to be encrypted\"))\n",
    "n= p*q\n",
    "print(n)\n",
    "Pn= (p-1)*(q-1)"
   ]
  },
  {
   "cell_type": "code",
   "execution_count": 27,
   "metadata": {},
   "outputs": [
    {
     "name": "stdout",
     "output_type": "stream",
     "text": [
      "All possible values of encryption key are:  [3, 7, 9, 11, 13, 17, 19, 21, 23, 27, 29, 31, 33, 37, 39, 41, 43, 47, 49, 51, 53, 57, 59, 61, 63, 67, 69, 71, 73, 77, 79, 81, 83, 87, 89, 91, 93, 97, 99, 101, 103, 107, 109, 111, 113, 117, 119, 121, 123, 127, 129, 131, 133, 137, 139, 141, 143, 147, 149, 151, 153, 157, 159]\n"
     ]
    }
   ],
   "source": [
    "# Generate encryption key in range 1<e<Pn\n",
    "key= []\n",
    "for i in range(2,Pn):\n",
    "  gcd= euclid(Pn,i)\n",
    "  if gcd==1:\n",
    "    key.append(i)\n",
    "print(\"All possible values of encryption key are: \", key)"
   ]
  },
  {
   "cell_type": "code",
   "execution_count": 28,
   "metadata": {},
   "outputs": [
    {
     "name": "stdout",
     "output_type": "stream",
     "text": [
      "decryption key is:  23\n",
      "For plain text =  100 , Cipher text =  144 Decrypted text =  100\n"
     ]
    }
   ],
   "source": [
    "# Select an encryption key from the above list\n",
    "e= int(7)\n",
    "\n",
    "#Obtain inverse of encryption key in Z_Pn\n",
    "r, d= exteuclid(Pn,e)\n",
    "if r==1:\n",
    "  d=int(d)\n",
    "  print(\"decryption key is: \", d)\n",
    "else:\n",
    "  print(\"Multiplicative inverse for the given encryption key does not exist. Choose a different encrytion key \")\n",
    "\n",
    "\n",
    "ct= pow(PT,e)\n",
    "ct=ct%n\n",
    "\n",
    "dt= pow(ct,d)\n",
    "dt= dt%n\n",
    "\n",
    "print(\"For plain text = \", PT, \", Cipher text = \", ct, \"Decrypted text = \", dt)"
   ]
  },
  {
   "cell_type": "markdown",
   "metadata": {},
   "source": [
    "# Conclusion"
   ]
  },
  {
   "cell_type": "markdown",
   "metadata": {},
   "source": [
    "In RSA algorithm we use two separate keys: one public key and one private key, each user has three keys. Two prime numbers p and q are selected and multiplied=n. If the prime numbers are large then Millar Rabin algorithm is used to test primality. Euler's totient is calculated for n which is given by P(n)=(p-1)x(q-1). The encryption key is selected such that it lies in the range of 2 to Pn and it is relatively prime to Pn. Inverse encryption is calculated using the formula d=e^(-1)mod(Pn). Plaintext is then encrypted to form cipher text and which is sent to 2nd user.Choose the plaintext whose value is less than phi(n). Receiver used that cipher text for decryption and gets original plaintext. Message is safe from alteration because message is encrypted using a private key which known to the sender only."
   ]
  },
  {
   "cell_type": "code",
   "execution_count": null,
   "metadata": {},
   "outputs": [],
   "source": []
  }
 ],
 "metadata": {
  "kernelspec": {
   "display_name": "Python 3",
   "language": "python",
   "name": "python3"
  },
  "language_info": {
   "codemirror_mode": {
    "name": "ipython",
    "version": 3
   },
   "file_extension": ".py",
   "mimetype": "text/x-python",
   "name": "python",
   "nbconvert_exporter": "python",
   "pygments_lexer": "ipython3",
   "version": "3.7.3"
  }
 },
 "nbformat": 4,
 "nbformat_minor": 2
}
