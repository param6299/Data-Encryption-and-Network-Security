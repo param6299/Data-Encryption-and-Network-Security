{
 "cells": [
  {
   "cell_type": "markdown",
   "metadata": {},
   "source": [
    "# Experiment 3"
   ]
  },
  {
   "cell_type": "markdown",
   "metadata": {},
   "source": [
    "# Param Nagda"
   ]
  },
  {
   "cell_type": "markdown",
   "metadata": {},
   "source": [
    "# Roll No: C035"
   ]
  },
  {
   "cell_type": "code",
   "execution_count": 21,
   "metadata": {},
   "outputs": [
    {
     "data": {
      "text/plain": [
       "26"
      ]
     },
     "execution_count": 21,
     "metadata": {},
     "output_type": "execute_result"
    }
   ],
   "source": [
    "import string\n",
    "all_letters= string.ascii_lowercase\n",
    "n=len(all_letters)\n",
    "n"
   ]
  },
  {
   "cell_type": "code",
   "execution_count": 22,
   "metadata": {},
   "outputs": [
    {
     "name": "stdout",
     "output_type": "stream",
     "text": [
      "Enter the value for a: 26\n",
      "Enter the value for b: 5\n"
     ]
    }
   ],
   "source": [
    "a= int(input(\"Enter the value for a: \"))\n",
    "b= int(input(\"Enter the value for b: \"))"
   ]
  },
  {
   "cell_type": "code",
   "execution_count": 23,
   "metadata": {},
   "outputs": [],
   "source": [
    "def mul_inv(a,b):\n",
    "    \n",
    "    for i in range(1,a+1):\n",
    "        if (b*i)%a==1:\n",
    "            \n",
    "            return(i)"
   ]
  },
  {
   "cell_type": "code",
   "execution_count": 24,
   "metadata": {},
   "outputs": [],
   "source": [
    "import math\n",
    "\n",
    "if math.gcd(a,b) == 1:\n",
    "    x = mul_inv(a,b)\n",
    "else:\n",
    "    print(\"Multiplicative Inverse does not exist\")"
   ]
  },
  {
   "cell_type": "markdown",
   "metadata": {},
   "source": [
    "# Encryption"
   ]
  },
  {
   "cell_type": "code",
   "execution_count": 25,
   "metadata": {},
   "outputs": [
    {
     "name": "stdout",
     "output_type": "stream",
     "text": [
      "enter the key 1: 5\n",
      "enter the key 2: 4\n"
     ]
    },
    {
     "data": {
      "text/plain": [
       "{'a': 'e',\n",
       " 'b': 'j',\n",
       " 'c': 'o',\n",
       " 'd': 't',\n",
       " 'e': 'y',\n",
       " 'f': 'd',\n",
       " 'g': 'i',\n",
       " 'h': 'n',\n",
       " 'i': 's',\n",
       " 'j': 'x',\n",
       " 'k': 'c',\n",
       " 'l': 'h',\n",
       " 'm': 'm',\n",
       " 'n': 'r',\n",
       " 'o': 'w',\n",
       " 'p': 'b',\n",
       " 'q': 'g',\n",
       " 'r': 'l',\n",
       " 's': 'q',\n",
       " 't': 'v',\n",
       " 'u': 'a',\n",
       " 'v': 'f',\n",
       " 'w': 'k',\n",
       " 'x': 'p',\n",
       " 'y': 'u',\n",
       " 'z': 'z'}"
      ]
     },
     "execution_count": 25,
     "metadata": {},
     "output_type": "execute_result"
    }
   ],
   "source": [
    "dict1={}\n",
    "k1=int(input(\"enter the key 1: \"))\n",
    "k2=int(input(\"enter the key 2: \"))\n",
    "\n",
    "for i in range(0,n):\n",
    "    dict1[all_letters[i]]= all_letters[ (i*k1+k2)%n]\n",
    "\n",
    "dict1"
   ]
  },
  {
   "cell_type": "code",
   "execution_count": 26,
   "metadata": {},
   "outputs": [
    {
     "name": "stdout",
     "output_type": "stream",
     "text": [
      "Enter the string to be encrypted: dataencryption\n",
      "Cipher text is teveyrolubvswr\n"
     ]
    }
   ],
   "source": [
    "plain_txt= input(\"Enter the string to be encrypted: \")\n",
    "cipher_txt=[]\n",
    "\n",
    "## loop to generate cipher text\n",
    "\n",
    "for char in plain_txt:\n",
    "    if char in all_letters:\n",
    "        temp= dict1[char]\n",
    "        cipher_txt.append(temp)\n",
    "    else:\n",
    "        temp=char\n",
    "        cipher_txt.append(temp)\n",
    "cipher_txt= \"\".join(cipher_txt)\n",
    "print(\"Cipher text is\",cipher_txt)"
   ]
  },
  {
   "cell_type": "markdown",
   "metadata": {},
   "source": [
    "# Decryption"
   ]
  },
  {
   "cell_type": "code",
   "execution_count": 27,
   "metadata": {},
   "outputs": [
    {
     "data": {
      "text/plain": [
       "{'a': 'u',\n",
       " 'b': 'p',\n",
       " 'c': 'k',\n",
       " 'd': 'f',\n",
       " 'e': 'a',\n",
       " 'f': 'v',\n",
       " 'g': 'q',\n",
       " 'h': 'l',\n",
       " 'i': 'g',\n",
       " 'j': 'b',\n",
       " 'k': 'w',\n",
       " 'l': 'r',\n",
       " 'm': 'm',\n",
       " 'n': 'h',\n",
       " 'o': 'c',\n",
       " 'p': 'x',\n",
       " 'q': 's',\n",
       " 'r': 'n',\n",
       " 's': 'i',\n",
       " 't': 'd',\n",
       " 'u': 'y',\n",
       " 'v': 't',\n",
       " 'w': 'o',\n",
       " 'x': 'j',\n",
       " 'y': 'e',\n",
       " 'z': 'z'}"
      ]
     },
     "execution_count": 27,
     "metadata": {},
     "output_type": "execute_result"
    }
   ],
   "source": [
    "k1inv= mul_inv(a,b)\n",
    "dict2={}        \n",
    "for i in range(n):\n",
    "    dict2[all_letters[i]]= all_letters[((i-k2)*k1inv)%n]\n",
    "\n",
    "dict2"
   ]
  },
  {
   "cell_type": "code",
   "execution_count": 28,
   "metadata": {},
   "outputs": [
    {
     "name": "stdout",
     "output_type": "stream",
     "text": [
      "Recovered plain text is:  dataencryption\n"
     ]
    }
   ],
   "source": [
    "decrypt_txt=[]\n",
    "for char in cipher_txt:\n",
    "    if char in all_letters:\n",
    "        temp= dict2[char]\n",
    "        decrypt_txt.append(temp)\n",
    "    else:\n",
    "        temp=char\n",
    "        decrypt_txt.append(temp)\n",
    "decrypt_txt= \"\".join(decrypt_txt)\n",
    "print(\"Recovered plain text is: \",decrypt_txt)"
   ]
  },
  {
   "cell_type": "markdown",
   "metadata": {},
   "source": [
    "# Conclusion"
   ]
  },
  {
   "cell_type": "markdown",
   "metadata": {},
   "source": [
    "This experiment helps us understand the implementation of affine cipher which is a type of monoalphabetic substitution cipher, where each letter in an alphabet is mapped to its numeric equivalent, encrypted using a simple mathematical function, and converted back to a letter. Here we have used 2 keys(Additive key and Multiplicative key) for encryption and decryption. For encrypting the cipher text we have used the formula ((pXk1)+k2)mod(n) where p is the plaintext and n is the length of characters while for decrypting the encrypted text we use the formula ((c-k2)Xinverse of k1)mod(n). Here before performing decryption we have to obtain the inverse of the multiplicative key(k1) and check if the inverse of k1 exists."
   ]
  },
  {
   "cell_type": "code",
   "execution_count": null,
   "metadata": {},
   "outputs": [],
   "source": []
  }
 ],
 "metadata": {
  "kernelspec": {
   "display_name": "Python 3",
   "language": "python",
   "name": "python3"
  },
  "language_info": {
   "codemirror_mode": {
    "name": "ipython",
    "version": 3
   },
   "file_extension": ".py",
   "mimetype": "text/x-python",
   "name": "python",
   "nbconvert_exporter": "python",
   "pygments_lexer": "ipython3",
   "version": "3.7.3"
  }
 },
 "nbformat": 4,
 "nbformat_minor": 2
}
