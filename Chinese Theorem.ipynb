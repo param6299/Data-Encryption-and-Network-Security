{
 "cells": [
  {
   "cell_type": "markdown",
   "metadata": {},
   "source": [
    "# Experiment 7"
   ]
  },
  {
   "cell_type": "markdown",
   "metadata": {},
   "source": [
    "# Param Nagda"
   ]
  },
  {
   "cell_type": "markdown",
   "metadata": {},
   "source": [
    "# Roll No- C035"
   ]
  },
  {
   "cell_type": "code",
   "execution_count": 1,
   "metadata": {},
   "outputs": [],
   "source": [
    "import string"
   ]
  },
  {
   "cell_type": "code",
   "execution_count": 7,
   "metadata": {},
   "outputs": [],
   "source": [
    "#Euclidean Theorem\n",
    "def euclid(a,b):\n",
    "    r1=a\n",
    "    r2=b\n",
    "    s1= int(1)\n",
    "    s2= int(0)\n",
    "    t1= int(0)\n",
    "    t2= int(1)\n",
    "    while r2>0:\n",
    "        q= r1//r2\n",
    "        r= r1-q*r2\n",
    "        r1= r2\n",
    "        r2 = r\n",
    "        s= s1-q*s2\n",
    "        s1=s2\n",
    "        s2=s\n",
    "        t= t1-q*t2\n",
    "        t1=t2\n",
    "        t2=t\n",
    "    if(t1<0):\n",
    "        t1= t1%a\n",
    "    else: t1=1\n",
    "    return (t1)"
   ]
  },
  {
   "cell_type": "code",
   "execution_count": 4,
   "metadata": {},
   "outputs": [
    {
     "name": "stdout",
     "output_type": "stream",
     "text": [
      "10\n",
      "13\n",
      "7\n",
      "4\n",
      "6\n",
      "4\n"
     ]
    }
   ],
   "source": [
    "#Chinese Theorem\n",
    "#Chinese Remainder theorem\n",
    "m1= int(input())\n",
    "m2=int(input())\n",
    "m3=int(input())\n",
    "a1= int(input())\n",
    "a2=int(input())\n",
    "a3=int(input())\n",
    "M= m1*m2*m3\n",
    "M1= M/m1\n",
    "M2=M/m2\n",
    "M3=M/m3"
   ]
  },
  {
   "cell_type": "code",
   "execution_count": 8,
   "metadata": {},
   "outputs": [
    {
     "name": "stdout",
     "output_type": "stream",
     "text": [
      "1\n",
      "8.0\n",
      "1\n",
      "4244.0\n",
      "Solution to the given simultaneous equation is  604.0\n"
     ]
    }
   ],
   "source": [
    "M1inv= euclid(m1,M1)#to find inverse of M1 in m1\n",
    "print(M1inv)\n",
    "M2inv= euclid(m2,M2)#to find inverse of M2 in m2\n",
    "print(M2inv)\n",
    "M3inv= euclid(m3,M3)#to find inverse of M3 in m3\n",
    "print(M3inv)\n",
    "temp= a1*M1*M1inv + a2*M2*M2inv +a3*M3*M3inv\n",
    "print(temp)\n",
    "A= temp%M\n",
    "print(\"Solution to the given simultaneous equation is \",A)"
   ]
  },
  {
   "cell_type": "markdown",
   "metadata": {},
   "source": [
    "### Conclusion"
   ]
  },
  {
   "cell_type": "markdown",
   "metadata": {},
   "source": [
    "In the following code we have implemented Chinese Theorem and have used Euclidean Theorem to find the multiplicative inverse of a number.In number theory, the Chinese remainder theorem is used to speed up modulo calculations and represent AmodM in a simpler form that is in the form of(a1modm1,a2modm2 and so on).Here M=m1 * m2 * m3... * mk and mi are relatively prime to each other and A can be represented as(a1,a2,...,ak).In this code we want to find AmodM from m1,m2 and m3 and a1,a2,a3 which has been inputted by user.For this we find M1,M2,M3 which is M/m1,M/m2 and M/m3.Using Euclidean function we find the inverse of M1,M2 and M3 in m1,m2 and m3.We then calculate A using the formula a1 * M1 * M1inv + a2 * M2 * M2inv +a3 * M3 * M3inv and thus we obtain AmodM"
   ]
  }
 ],
 "metadata": {
  "kernelspec": {
   "display_name": "Python 3",
   "language": "python",
   "name": "python3"
  },
  "language_info": {
   "codemirror_mode": {
    "name": "ipython",
    "version": 3
   },
   "file_extension": ".py",
   "mimetype": "text/x-python",
   "name": "python",
   "nbconvert_exporter": "python",
   "pygments_lexer": "ipython3",
   "version": "3.7.3"
  }
 },
 "nbformat": 4,
 "nbformat_minor": 4
}
