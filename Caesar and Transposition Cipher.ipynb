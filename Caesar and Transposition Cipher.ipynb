{
 "cells": [
  {
   "cell_type": "markdown",
   "metadata": {},
   "source": [
    "# Experiment 2"
   ]
  },
  {
   "cell_type": "markdown",
   "metadata": {},
   "source": [
    "# Name: Param Nagda"
   ]
  },
  {
   "cell_type": "markdown",
   "metadata": {},
   "source": [
    "# Roll No: C035"
   ]
  },
  {
   "cell_type": "code",
   "execution_count": 5,
   "metadata": {},
   "outputs": [],
   "source": [
    "import string\n",
    "all_letters = string.ascii_letters"
   ]
  },
  {
   "cell_type": "markdown",
   "metadata": {},
   "source": [
    "# Caeser Cipher"
   ]
  },
  {
   "cell_type": "code",
   "execution_count": 1,
   "metadata": {},
   "outputs": [
    {
     "name": "stdout",
     "output_type": "stream",
     "text": [
      "Enter string to be encrypted: My name is Param\n"
     ]
    }
   ],
   "source": [
    "a = input(\"Enter string to be encrypted: \")"
   ]
  },
  {
   "cell_type": "code",
   "execution_count": 6,
   "metadata": {},
   "outputs": [
    {
     "name": "stdout",
     "output_type": "stream",
     "text": [
      "Enter key: 6\n"
     ]
    }
   ],
   "source": [
    "k = int(input(\"Enter key: \"))"
   ]
  },
  {
   "cell_type": "code",
   "execution_count": 7,
   "metadata": {},
   "outputs": [
    {
     "name": "stdout",
     "output_type": "stream",
     "text": [
      "['M', 'y', ' ', 'n', 'a', 'm', 'e', ' ', 'i', 's', ' ', 'P', 'a', 'r', 'a', 'm']\n"
     ]
    }
   ],
   "source": [
    "def Convert(string): \n",
    "    list1=[] \n",
    "    list1[:0]=string \n",
    "    return list1 \n",
    "\n",
    "print(Convert(a))\n",
    "al = Convert(a)"
   ]
  },
  {
   "cell_type": "code",
   "execution_count": 8,
   "metadata": {},
   "outputs": [],
   "source": [
    "def gettingascii(al):\n",
    "    ol = []\n",
    "    for i in range(0,len(al)):\n",
    "        ol.append(ord(al[i]))\n",
    "    return (ol)"
   ]
  },
  {
   "cell_type": "code",
   "execution_count": 9,
   "metadata": {},
   "outputs": [
    {
     "data": {
      "text/plain": [
       "[77, 121, 32, 110, 97, 109, 101, 32, 105, 115, 32, 80, 97, 114, 97, 109]"
      ]
     },
     "execution_count": 9,
     "metadata": {},
     "output_type": "execute_result"
    }
   ],
   "source": [
    "ol = gettingascii(al)\n",
    "ol"
   ]
  },
  {
   "cell_type": "code",
   "execution_count": 10,
   "metadata": {},
   "outputs": [
    {
     "name": "stdout",
     "output_type": "stream",
     "text": [
      "6\n"
     ]
    }
   ],
   "source": [
    "if k<26:\n",
    "    nk = k\n",
    "else:\n",
    "    nk = (k%26)\n",
    "print(nk)"
   ]
  },
  {
   "cell_type": "code",
   "execution_count": 11,
   "metadata": {},
   "outputs": [
    {
     "name": "stdout",
     "output_type": "stream",
     "text": [
      "S\n",
      "\n",
      "&\n",
      "t\n",
      "g\n",
      "s\n",
      "k\n",
      "&\n",
      "o\n",
      "y\n",
      "&\n",
      "V\n",
      "g\n",
      "x\n",
      "g\n",
      "s\n"
     ]
    },
    {
     "data": {
      "text/plain": [
       "'S\\x7f&tgsk&oy&Vgxgs'"
      ]
     },
     "execution_count": 11,
     "metadata": {},
     "output_type": "execute_result"
    }
   ],
   "source": [
    "ans = ''\n",
    "for i in range(0,len(al)):\n",
    "    print(chr(ol[i]+nk))\n",
    "    ans = ans + chr(ol[i]+nk)\n",
    "ans"
   ]
  },
  {
   "cell_type": "code",
   "execution_count": 12,
   "metadata": {},
   "outputs": [
    {
     "data": {
      "text/plain": [
       "[83, 127, 38, 116, 103, 115, 107, 38, 111, 121, 38, 86, 103, 120, 103, 115]"
      ]
     },
     "execution_count": 12,
     "metadata": {},
     "output_type": "execute_result"
    }
   ],
   "source": [
    "dl = gettingascii(ans)\n",
    "dl"
   ]
  },
  {
   "cell_type": "code",
   "execution_count": 22,
   "metadata": {},
   "outputs": [
    {
     "name": "stdout",
     "output_type": "stream",
     "text": [
      "Key  0 : S&tgsk&oy&Vgxgs\n",
      "Key  1 : R~%sfrj%nx%Ufwfr\n",
      "Key  2 : Q}$reqi$mw$Teveq\n",
      "Key  3 : P|#qdph#lv#Sdudp\n",
      "Key  4 : O{\"pcog\"ku\"Rctco\n",
      "Key  5 : Nz!obnf!jt!Qbsbn\n",
      "Key  6 : My name is Param\n",
      "Key  7 : Lx\u001fm`ld\u001fhr\u001fO`q`l\n",
      "Key  8 : Kw\u001e",
      "l_kc\u001e",
      "gq\u001e",
      "N_p_k\n",
      "Key  9 : Jv\u001d",
      "k^jb\u001d",
      "fp\u001d",
      "M^o^j\n",
      "Key  10 : Iu\u001c",
      "j]ia\u001c",
      "eo\u001c",
      "L]n]i\n",
      "Key  11 : Ht\u001bi\\h`\u001bdn\u001bK\\m\\h\n",
      "Key  12 : Gs\u001ah[g_\u001acm\u001aJ[l[g\n",
      "Key  13 : Fr\u0019gZf^\u0019bl\u0019IZkZf\n",
      "Key  14 : Eq\u0018fYe]\u0018ak\u0018HYjYe\n",
      "Key  15 : Dp\u0017eXd\\\u0017`j\u0017GXiXd\n",
      "Key  16 : Co\u0016dWc[\u0016_i\u0016FWhWc\n",
      "Key  17 : Bn\u0015cVbZ\u0015^h\u0015EVgVb\n",
      "Key  18 : Am\u0014bUaY\u0014]g\u0014DUfUa\n",
      "Key  19 : @l\u0013aT`X\u0013\\f\u0013CTeT`\n",
      "Key  20 : ?k\u0012`S_W\u0012[e\u0012BSdS_\n",
      "Key  21 : >j\u0011_R^V\u0011Zd\u0011ARcR^\n",
      "Key  22 : =i\u0010^Q]U\u0010Yc\u0010@QbQ]\n",
      "Key  23 : <h\u000f]P\\T\u000fXb\u000f?PaP\\\n",
      "Key  24 : ;g\u000e\\O[S\u000eWa\u000e>O`O[\n",
      "Key  25 : :f\r",
      "[NZR\r",
      "V`\r",
      "=N_NZ\n",
      "Key  26 : S&tgsk&oy&Vgxgs\n",
      "Key  27 : R~%sfrj%nx%Ufwfr\n",
      "Key  28 : Q}$reqi$mw$Teveq\n",
      "Key  29 : P|#qdph#lv#Sdudp\n",
      "Key  30 : O{\"pcog\"ku\"Rctco\n",
      "Key  31 : Nz!obnf!jt!Qbsbn\n",
      "Key  32 : My name is Param\n",
      "Key  33 : Lx\u001fm`ld\u001fhr\u001fO`q`l\n",
      "Key  34 : Kw\u001e",
      "l_kc\u001e",
      "gq\u001e",
      "N_p_k\n",
      "Key  35 : Jv\u001d",
      "k^jb\u001d",
      "fp\u001d",
      "M^o^j\n",
      "Key  36 : Iu\u001c",
      "j]ia\u001c",
      "eo\u001c",
      "L]n]i\n",
      "Key  37 : Ht\u001bi\\h`\u001bdn\u001bK\\m\\h\n",
      "Key  38 : Gs\u001ah[g_\u001acm\u001aJ[l[g\n",
      "Key  39 : Fr\u0019gZf^\u0019bl\u0019IZkZf\n",
      "Key  40 : Eq\u0018fYe]\u0018ak\u0018HYjYe\n",
      "Key  41 : Dp\u0017eXd\\\u0017`j\u0017GXiXd\n",
      "Key  42 : Co\u0016dWc[\u0016_i\u0016FWhWc\n",
      "Key  43 : Bn\u0015cVbZ\u0015^h\u0015EVgVb\n",
      "Key  44 : Am\u0014bUaY\u0014]g\u0014DUfUa\n",
      "Key  45 : @l\u0013aT`X\u0013\\f\u0013CTeT`\n",
      "Key  46 : ?k\u0012`S_W\u0012[e\u0012BSdS_\n",
      "Key  47 : >j\u0011_R^V\u0011Zd\u0011ARcR^\n",
      "Key  48 : =i\u0010^Q]U\u0010Yc\u0010@QbQ]\n",
      "Key  49 : <h\u000f]P\\T\u000fXb\u000f?PaP\\\n",
      "Key  50 : ;g\u000e\\O[S\u000eWa\u000e>O`O[\n",
      "Key  51 : :f\r",
      "[NZR\r",
      "V`\r",
      "=N_NZ\n"
     ]
    }
   ],
   "source": [
    "for key in range(len(all_letters)):\n",
    "    ans = ''\n",
    "    if key<26:\n",
    "        nk = key\n",
    "    else:\n",
    "        nk = (key%26)\n",
    "\n",
    "    for i in range(0,len(dl)):\n",
    "        ans = ans + chr(dl[i]-nk)\n",
    "    print(\"Key \", key,\":\", ans)"
   ]
  },
  {
   "cell_type": "markdown",
   "metadata": {},
   "source": [
    "# Transposition Cipher"
   ]
  },
  {
   "cell_type": "code",
   "execution_count": 25,
   "metadata": {},
   "outputs": [
    {
     "data": {
      "text/plain": [
       "' Param'"
      ]
     },
     "execution_count": 25,
     "metadata": {},
     "output_type": "execute_result"
    }
   ],
   "source": [
    "b = a[(len(a)-k):]\n",
    "b"
   ]
  },
  {
   "cell_type": "code",
   "execution_count": 26,
   "metadata": {},
   "outputs": [
    {
     "data": {
      "text/plain": [
       "'My name is'"
      ]
     },
     "execution_count": 26,
     "metadata": {},
     "output_type": "execute_result"
    }
   ],
   "source": [
    "z = a[:(len(a)-k)]\n",
    "z"
   ]
  },
  {
   "cell_type": "code",
   "execution_count": 28,
   "metadata": {},
   "outputs": [
    {
     "data": {
      "text/plain": [
       "' ParamMy name is'"
      ]
     },
     "execution_count": 28,
     "metadata": {},
     "output_type": "execute_result"
    }
   ],
   "source": [
    "c = b+z\n",
    "c"
   ]
  },
  {
   "cell_type": "code",
   "execution_count": 29,
   "metadata": {},
   "outputs": [
    {
     "name": "stdout",
     "output_type": "stream",
     "text": [
      "Key  0 :  ParamMy name is\n",
      "Key  1 : ParamMy name is \n",
      "Key  2 : aramMy name is P\n",
      "Key  3 : ramMy name is Pa\n",
      "Key  4 : amMy name is Par\n",
      "Key  5 : mMy name is Para\n",
      "Key  6 : My name is Param\n",
      "Key  7 : y name is ParamM\n",
      "Key  8 :  name is ParamMy\n",
      "Key  9 : name is ParamMy \n",
      "Key  10 : ame is ParamMy n\n",
      "Key  11 : me is ParamMy na\n",
      "Key  12 : e is ParamMy nam\n",
      "Key  13 :  is ParamMy name\n",
      "Key  14 : is ParamMy name \n",
      "Key  15 : s ParamMy name i\n",
      "Key  16 :  ParamMy name is\n",
      "Key  17 :  ParamMy name is\n",
      "Key  18 :  ParamMy name is\n",
      "Key  19 :  ParamMy name is\n",
      "Key  20 :  ParamMy name is\n",
      "Key  21 :  ParamMy name is\n",
      "Key  22 :  ParamMy name is\n",
      "Key  23 :  ParamMy name is\n",
      "Key  24 :  ParamMy name is\n",
      "Key  25 :  ParamMy name is\n",
      "Key  26 :  ParamMy name is\n",
      "Key  27 : ParamMy name is \n",
      "Key  28 : aramMy name is P\n",
      "Key  29 : ramMy name is Pa\n",
      "Key  30 : amMy name is Par\n",
      "Key  31 : mMy name is Para\n",
      "Key  32 : My name is Param\n",
      "Key  33 : y name is ParamM\n",
      "Key  34 :  name is ParamMy\n",
      "Key  35 : name is ParamMy \n",
      "Key  36 : ame is ParamMy n\n",
      "Key  37 : me is ParamMy na\n",
      "Key  38 : e is ParamMy nam\n",
      "Key  39 :  is ParamMy name\n",
      "Key  40 : is ParamMy name \n",
      "Key  41 : s ParamMy name i\n",
      "Key  42 :  ParamMy name is\n",
      "Key  43 :  ParamMy name is\n",
      "Key  44 :  ParamMy name is\n",
      "Key  45 :  ParamMy name is\n",
      "Key  46 :  ParamMy name is\n",
      "Key  47 :  ParamMy name is\n",
      "Key  48 :  ParamMy name is\n",
      "Key  49 :  ParamMy name is\n",
      "Key  50 :  ParamMy name is\n",
      "Key  51 :  ParamMy name is\n"
     ]
    }
   ],
   "source": [
    "for key in range(len(all_letters)):\n",
    "    decrypt_t = ''\n",
    "    if key<26:\n",
    "        nk = key\n",
    "    else:\n",
    "        nk = (key%26)\n",
    "\n",
    "    decrypt_t = c[nk:] + c[:nk]\n",
    "    print(\"Key \", key,\":\", decrypt_t)"
   ]
  },
  {
   "cell_type": "markdown",
   "metadata": {},
   "source": [
    "# Conclusion"
   ]
  },
  {
   "cell_type": "markdown",
   "metadata": {},
   "source": [
    "In substitution and caesar cipher we replaced the alphabet in the words by the alphabet whose ASCII value was greater than it by amount of 'key', which is given by the user. The conditions on the key were such that if it was greater than 26, then the value of (key mod 26) was assumed as the new key. Whereas, in transposition and reverse cipher the alpahbets were subject to cyclic shift within the given sentence. While decrypting, we use brute-force attack i.e. we use all the possible key values to obtain the original plaintext."
   ]
  },
  {
   "cell_type": "code",
   "execution_count": null,
   "metadata": {},
   "outputs": [],
   "source": []
  }
 ],
 "metadata": {
  "kernelspec": {
   "display_name": "Python 3",
   "language": "python",
   "name": "python3"
  },
  "language_info": {
   "codemirror_mode": {
    "name": "ipython",
    "version": 3
   },
   "file_extension": ".py",
   "mimetype": "text/x-python",
   "name": "python",
   "nbconvert_exporter": "python",
   "pygments_lexer": "ipython3",
   "version": "3.7.3"
  }
 },
 "nbformat": 4,
 "nbformat_minor": 2
}
