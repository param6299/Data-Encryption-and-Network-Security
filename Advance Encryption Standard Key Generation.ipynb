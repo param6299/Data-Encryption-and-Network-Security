{
 "cells": [
  {
   "cell_type": "markdown",
   "metadata": {},
   "source": [
    "# Experiment 6"
   ]
  },
  {
   "cell_type": "markdown",
   "metadata": {},
   "source": [
    "# Param Nagda"
   ]
  },
  {
   "cell_type": "markdown",
   "metadata": {},
   "source": [
    "# Roll No- C035"
   ]
  },
  {
   "cell_type": "code",
   "execution_count": 22,
   "metadata": {},
   "outputs": [],
   "source": [
    "import numpy as np"
   ]
  },
  {
   "cell_type": "code",
   "execution_count": 14,
   "metadata": {},
   "outputs": [],
   "source": [
    "t= [0XAD20177D, 0X470678DB, 0X31da48d0, 0x47ab5b7d, 0x6c762d20, 0x52c4f80d, 0xe4133523, 0x8ce29268, 0x0a5e4f61, 0x3fc6cd99]"
   ]
  },
  {
   "cell_type": "code",
   "execution_count": 38,
   "metadata": {},
   "outputs": [
    {
     "data": {
      "text/plain": [
       "880105096"
      ]
     },
     "execution_count": 38,
     "metadata": {},
     "output_type": "execute_result"
    }
   ],
   "source": [
    "#Initial 4 byte key given\n",
    "j=0\n",
    "w1=[0x2475A2B3, 0x34755688, 0x31E21200, 0x13AA5487]"
   ]
  },
  {
   "cell_type": "code",
   "execution_count": 16,
   "metadata": {},
   "outputs": [
    {
     "name": "stdout",
     "output_type": "stream",
     "text": [
      "[611689139, 880105096, 836899328, 329929863, 2304095694, 3173049158, 2361585990, 2674435521, 3461598485, 1936928339, 4289847061, 1624865492, 4287202757, 2365238166, 1934324867, 328339031, 3089292984, 886601006, 1200816557, 1409355770, 3562337176, 3767305910, 2803861275, 4078864609, 2257587093, 1713147171, 3238201912, 840794841, 1652768438, 77575061, 3315382701, 4152441716, 3999378654, 3942522699, 794994406, 3638795666, 3829392319, 247594228, 564353554, 4181772160, 3690540582, 3577270994, 4103833792, 232476480]\n"
     ]
    }
   ],
   "source": [
    "for i in range(4,44):\n",
    "    if i%4==0:\n",
    "        w1.append(t[j]^w1[i-4])\n",
    "        j=j+1\n",
    "    else:  \n",
    "        w1.append(w1[i-1]^w1[i-4])\n",
    "print(w1)"
   ]
  },
  {
   "cell_type": "code",
   "execution_count": 17,
   "metadata": {},
   "outputs": [
    {
     "name": "stdout",
     "output_type": "stream",
     "text": [
      "Word 0 :  0x2475a2b3\n",
      "Word 1 :  0x34755688\n",
      "Word 2 :  0x31e21200\n",
      "Word 3 :  0x13aa5487\n",
      "Word 4 :  0x8955b5ce\n",
      "Word 5 :  0xbd20e346\n",
      "Word 6 :  0x8cc2f146\n",
      "Word 7 :  0x9f68a5c1\n",
      "Word 8 :  0xce53cd15\n",
      "Word 9 :  0x73732e53\n",
      "Word 10 :  0xffb1df15\n",
      "Word 11 :  0x60d97ad4\n",
      "Word 12 :  0xff8985c5\n",
      "Word 13 :  0x8cfaab96\n",
      "Word 14 :  0x734b7483\n",
      "Word 15 :  0x13920e57\n",
      "Word 16 :  0xb822deb8\n",
      "Word 17 :  0x34d8752e\n",
      "Word 18 :  0x479301ad\n",
      "Word 19 :  0x54010ffa\n",
      "Word 20 :  0xd454f398\n",
      "Word 21 :  0xe08c86b6\n",
      "Word 22 :  0xa71f871b\n",
      "Word 23 :  0xf31e88e1\n",
      "Word 24 :  0x86900b95\n",
      "Word 25 :  0x661c8d23\n",
      "Word 26 :  0xc1030a38\n",
      "Word 27 :  0x321d82d9\n",
      "Word 28 :  0x62833eb6\n",
      "Word 29 :  0x49fb395\n",
      "Word 30 :  0xc59cb9ad\n",
      "Word 31 :  0xf7813b74\n",
      "Word 32 :  0xee61acde\n",
      "Word 33 :  0xeafe1f4b\n",
      "Word 34 :  0x2f62a6e6\n",
      "Word 35 :  0xd8e39d92\n",
      "Word 36 :  0xe43fe3bf\n",
      "Word 37 :  0xec1fcf4\n",
      "Word 38 :  0x21a35a12\n",
      "Word 39 :  0xf940c780\n",
      "Word 40 :  0xdbf92e26\n",
      "Word 41 :  0xd538d2d2\n",
      "Word 42 :  0xf49b88c0\n",
      "Word 43 :  0xddb4f40\n"
     ]
    }
   ],
   "source": [
    "#Converting the Key in Hex numbers\n",
    "word=[]\n",
    "for i in range(0,44):\n",
    "    temp= hex(w1[i])\n",
    "    word.append(temp)\n",
    "    print(\"Word\",i,\": \", word[i])"
   ]
  },
  {
   "cell_type": "code",
   "execution_count": 42,
   "metadata": {},
   "outputs": [],
   "source": [
    "sbox = [0x63, 0x7c, 0x77, 0x7b, 0xf2, 0x6b, 0x6f, 0xc5, 0x30, 0x01, 0x67, 0x2b, 0xfe, 0xd7, 0xab, 0x76,\n",
    "\t\t0xca, 0x82, 0xc9, 0x7d, 0xfa, 0x59, 0x47, 0xf0, 0xad, 0xd4, 0xa2, 0xaf, 0x9c, 0xa4, 0x72, 0xc0,\n",
    "\t\t0xb7, 0xfd, 0x93, 0x26, 0x36, 0x3f, 0xf7, 0xcc, 0x34, 0xa5, 0xe5, 0xf1, 0x71, 0xd8, 0x31, 0x15,\n",
    "\t\t0x04, 0xc7, 0x23, 0xc3, 0x18, 0x96, 0x05, 0x9a, 0x07, 0x12, 0x80, 0xe2, 0xeb, 0x27, 0xb2, 0x75,\n",
    "\t\t0x09, 0x83, 0x2c, 0x1a, 0x1b, 0x6e, 0x5a, 0xa0, 0x52, 0x3b, 0xd6, 0xb3, 0x29, 0xe3, 0x2f, 0x84,\n",
    "\t\t0x53, 0xd1, 0x00, 0xed, 0x20, 0xfc, 0xb1, 0x5b, 0x6a, 0xcb, 0xbe, 0x39, 0x4a, 0x4c, 0x58, 0xcf,\n",
    "\t\t0xd0, 0xef, 0xaa, 0xfb, 0x43, 0x4d, 0x33, 0x85, 0x45, 0xf9, 0x02, 0x7f, 0x50, 0x3c, 0x9f, 0xa8,\n",
    "\t\t0x51, 0xa3, 0x40, 0x8f, 0x92, 0x9d, 0x38, 0xf5, 0xbc, 0xb6, 0xda, 0x21, 0x10, 0xff, 0xf3, 0xd2,\n",
    "\t\t0xcd, 0x0c, 0x13, 0xec, 0x5f, 0x97, 0x44, 0x17, 0xc4, 0xa7, 0x7e, 0x3d, 0x64, 0x5d, 0x19, 0x73,\n",
    "\t\t0x60, 0x81, 0x4f, 0xdc, 0x22, 0x2a, 0x90, 0x88, 0x46, 0xee, 0xb8, 0x14, 0xde, 0x5e, 0x0b, 0xdb,\n",
    "\t\t0xe0, 0x32, 0x3a, 0x0a, 0x49, 0x06, 0x24, 0x5c, 0xc2, 0xd3, 0xac, 0x62, 0x91, 0x95, 0xe4, 0x79,\n",
    "\t\t0xe7, 0xc8, 0x37, 0x6d, 0x8d, 0xd5, 0x4e, 0xa9, 0x6c, 0x56, 0xf4, 0xea, 0x65, 0x7a, 0xae, 0x08,\n",
    "\t\t0xba, 0x78, 0x25, 0x2e, 0x1c, 0xa6, 0xb4, 0xc6, 0xe8, 0xdd, 0x74, 0x1f, 0x4b, 0xbd, 0x8b, 0x8a,\n",
    "\t\t0x70, 0x3e, 0xb5, 0x66, 0x48, 0x03, 0xf6, 0x0e, 0x61, 0x35, 0x57, 0xb9, 0x86, 0xc1, 0x1d, 0x9e,\n",
    "\t\t0xe1, 0xf8, 0x98, 0x11, 0x69, 0xd9, 0x8e, 0x94, 0x9b, 0x1e, 0x87, 0xe9, 0xce, 0x55, 0x28, 0xdf,\n",
    "\t\t0x8c, 0xa1, 0x89, 0x0d, 0xbf, 0xe6, 0x42, 0x68, 0x41, 0x99, 0x2d, 0x0f, 0xb0, 0x54, 0xbb, 0x16]"
   ]
  },
  {
   "cell_type": "code",
   "execution_count": 43,
   "metadata": {},
   "outputs": [],
   "source": [
    "Rcon = [0x00000000, 0x01000000, 0x02000000,\n",
    "\t\t0x04000000, 0x08000000, 0x10000000, \n",
    "\t\t0x20000000, 0x40000000, 0x80000000, \n",
    "\t\t0x1b000000, 0x36000000]"
   ]
  },
  {
   "cell_type": "code",
   "execution_count": 44,
   "metadata": {},
   "outputs": [],
   "source": [
    "def hex2binary(hex):\n",
    "\treturn bin(int(str(hex), 16))"
   ]
  },
  {
   "cell_type": "code",
   "execution_count": 45,
   "metadata": {},
   "outputs": [],
   "source": [
    "#takes two hex values and calculates hex1 xor hex2\n",
    "def hexor(hex1, hex2):\n",
    "\t#convert to binary\n",
    "\tbin1 = hex2binary(hex1)\n",
    "\tbin2 = hex2binary(hex2)\n",
    "\txord = int(bin1, 2) ^ int(bin2, 2)\n",
    "\thexed = hex(xord)[2:]\n",
    "\t\n",
    "\t#leading 0s get cut above, if not length 8 add a leading 0\n",
    "\tif len(hexed) != 8:\n",
    "\t\thexed = '0' + hexed\n",
    "\t\t\n",
    "\treturn hexed"
   ]
  },
  {
   "cell_type": "code",
   "execution_count": 46,
   "metadata": {},
   "outputs": [],
   "source": [
    "#Gives cyclic shift to the left\n",
    "def RotWord(word):\n",
    "\treturn word[1:] + word[:1]"
   ]
  },
  {
   "cell_type": "code",
   "execution_count": 47,
   "metadata": {},
   "outputs": [],
   "source": [
    "#selects correct value from sbox based on the current word\n",
    "def SubWord(word):\n",
    "  sWord = ()\n",
    "  for i in range(4):\n",
    "    #check first char, if its a letter(a-f) get corresponding decimal otherwise just take the value and add 1\n",
    "    if word[i][0].isdigit() == False:\n",
    "      row = ord(word[i][0]) - 86\n",
    "    else:\n",
    "      row = int(word[i][0])+1\n",
    "    #Same for row\n",
    "    if word[i][1].isdigit() == False:\n",
    "      col = ord(word[i][1]) - 86\n",
    "    else:\n",
    "      col = int(word[i][1])+1\n",
    "    sBoxIndex = (row*16) - (17-col) #Indexing the list into a 2*2 matrix\n",
    "    piece = hex(sbox[sBoxIndex])[2:]\n",
    "    if len(piece) != 2:\n",
    "      piece = '0' + piece\n",
    "    sWord = (*sWord, piece) #Creating tuples for each substitution \n",
    "  return ''.join(sWord) #Returns the wholesubstituted word"
   ]
  },
  {
   "cell_type": "code",
   "execution_count": 48,
   "metadata": {},
   "outputs": [],
   "source": [
    "#used to display the keywords neatly in this form: w0 = 0f 15 71 c9\n",
    "def prettyPrint(w):\n",
    "\tprint(\"\\n\\nKeywords: \\n\")\n",
    "\tfor i in range(len(w)):\n",
    "\t\tprint(\"w\" + str(i), \"=\", w[i][0], w[i][1], w[i][2], w[i][3])"
   ]
  },
  {
   "cell_type": "code",
   "execution_count": 49,
   "metadata": {},
   "outputs": [],
   "source": [
    "def keyExpansion(key):\n",
    "\tw = [()]*44\n",
    "\t#Get the first 4 words based on the key\n",
    "\tfor i in range(4):\n",
    "\t\tw[i] = (key[4*i], key[4*i+1], key[4*i+2], key[4*i+3])\t\t\n",
    "\tfor i in range(4, 44):\n",
    "\t\t#get required previous keywords\n",
    "\t\ttemp = w[i-1]\n",
    "\t\tword = w[i-4]\n",
    "\t\tif i % 4 == 0: #if multiple of 4 use rot, sub, rcon to get t\n",
    "\t\t\tx = RotWord(temp)\n",
    "\t\t\ty = SubWord(x)\n",
    "\t\t\trcon = Rcon[int(i/4)]\n",
    "\t\t\ttemp = hexor(y, hex(rcon)[2:]) \n",
    "\t\tword = ''.join(word)\n",
    "\t\ttemp = ''.join(temp)\n",
    "\t\t\n",
    "\t\t#xor the two hex values\n",
    "\t\txord = hexor(word, temp)\n",
    "\t\tw[i] = (xord[:2], xord[2:4], xord[4:6], xord[6:8])\n",
    "\t\t\n",
    "\treturn w"
   ]
  },
  {
   "cell_type": "code",
   "execution_count": 51,
   "metadata": {},
   "outputs": [
    {
     "name": "stdout",
     "output_type": "stream",
     "text": [
      "Key provided: 2475a2b33475568831e2120013aa5487\n",
      "\n",
      "\n",
      "Keywords: \n",
      "\n",
      "w0 = 24 75 a2 b3\n",
      "w1 = 34 75 56 88\n",
      "w2 = 31 e2 12 00\n",
      "w3 = 13 aa 54 87\n",
      "w4 = 89 55 b5 ce\n",
      "w5 = bd 20 e3 46\n",
      "w6 = 8c c2 f1 46\n",
      "w7 = 9f 68 a5 c1\n",
      "w8 = ce 53 cd 15\n",
      "w9 = 73 73 2e 53\n",
      "w10 = ff b1 df 15\n",
      "w11 = 60 d9 7a d4\n",
      "w12 = ff 89 85 c5\n",
      "w13 = 8c fa ab 96\n",
      "w14 = 73 4b 74 83\n",
      "w15 = 13 92 0e 57\n",
      "w16 = b8 22 de b8\n",
      "w17 = 34 d8 75 2e\n",
      "w18 = 47 93 01 ad\n",
      "w19 = 54 01 0f fa\n",
      "w20 = d4 54 f3 98\n",
      "w21 = e0 8c 86 b6\n",
      "w22 = a7 1f 87 1b\n",
      "w23 = f3 1e 88 e1\n",
      "w24 = 86 90 0b 95\n",
      "w25 = 66 1c 8d 23\n",
      "w26 = c1 03 0a 38\n",
      "w27 = 32 1d 82 d9\n",
      "w28 = 62 83 3e b6\n",
      "w29 = 04 9f b3 95\n",
      "w30 = c5 9c b9 ad\n",
      "w31 = f7 81 3b 74\n",
      "w32 = ee 61 ac de\n",
      "w33 = ea fe 1f 4b\n",
      "w34 = 2f 62 a6 e6\n",
      "w35 = d8 e3 9d 92\n",
      "w36 = e4 3f e3 bf\n",
      "w37 = 0e c1 fc f4\n",
      "w38 = 21 a3 5a 12\n",
      "w39 = f9 40 c7 80\n",
      "w40 = db f9 2e 26\n",
      "w41 = d5 38 d2 d2\n",
      "w42 = f4 9b 88 c0\n",
      "w43 = 0d db 4f 40\n"
     ]
    }
   ],
   "source": [
    "key = [\"24\", \"75\", \"a2\", \"b3\", \"34\", \"75\", \"56\", \"88\", \"31\", \"e2\", \"12\", \"00\", \"13\", \"aa\", \"54\", \"87\"]\n",
    "\n",
    "w = keyExpansion(key)\n",
    "print(\"Key provided: \" + \"\".join(key))\n",
    "prettyPrint(w)"
   ]
  },
  {
   "cell_type": "markdown",
   "metadata": {},
   "source": [
    "# Conclusion"
   ]
  },
  {
   "cell_type": "markdown",
   "metadata": {},
   "source": [
    "The complexity is added at the very first step of this algorithm as it requires a 16 byte which is 128 bits. Further, use of \"S-Box\", cyclic rotation \"RCon(Rotation Constant)\" make it difficult to attack without proper key or the correct key. In order to obtain every fourth word, aforementioned steps have to be applied in correct sequence which provides more security to the information."
   ]
  },
  {
   "cell_type": "code",
   "execution_count": null,
   "metadata": {},
   "outputs": [],
   "source": []
  }
 ],
 "metadata": {
  "kernelspec": {
   "display_name": "Python 3",
   "language": "python",
   "name": "python3"
  },
  "language_info": {
   "codemirror_mode": {
    "name": "ipython",
    "version": 3
   },
   "file_extension": ".py",
   "mimetype": "text/x-python",
   "name": "python",
   "nbconvert_exporter": "python",
   "pygments_lexer": "ipython3",
   "version": "3.7.3"
  }
 },
 "nbformat": 4,
 "nbformat_minor": 2
}
