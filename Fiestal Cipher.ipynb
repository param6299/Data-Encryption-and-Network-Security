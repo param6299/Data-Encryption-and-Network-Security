{
 "cells": [
  {
   "cell_type": "markdown",
   "metadata": {},
   "source": [
    "# Experiment 4"
   ]
  },
  {
   "cell_type": "markdown",
   "metadata": {},
   "source": [
    "# Param Nagda "
   ]
  },
  {
   "cell_type": "markdown",
   "metadata": {},
   "source": [
    "#  Roll No: C035"
   ]
  },
  {
   "cell_type": "markdown",
   "metadata": {},
   "source": [
    "# Taking Input and Binary Conversion"
   ]
  },
  {
   "cell_type": "code",
   "execution_count": 405,
   "metadata": {},
   "outputs": [
    {
     "name": "stdout",
     "output_type": "stream",
     "text": [
      "Enter text to be encrypted: Feistel Cipher\n"
     ]
    }
   ],
   "source": [
    "x = input(\"Enter text to be encrypted: \")"
   ]
  },
  {
   "cell_type": "code",
   "execution_count": 406,
   "metadata": {},
   "outputs": [
    {
     "name": "stdout",
     "output_type": "stream",
     "text": [
      "Encrypted Text in Binary:  0100011001100101011010010111001101110100011001010110110000100000010000110110100101110000011010000110010101110010\n"
     ]
    }
   ],
   "source": [
    "y = ''.join(format(i, '08b') for i in bytearray(x, encoding ='utf-8'))\n",
    "print ('Encrypted Text in Binary: ',y)"
   ]
  },
  {
   "cell_type": "code",
   "execution_count": 407,
   "metadata": {},
   "outputs": [],
   "source": [
    "n = len(y)\n",
    "l1,r1 = y[:int(n*0.5)],y[int(n*0.5):]"
   ]
  },
  {
   "cell_type": "code",
   "execution_count": 408,
   "metadata": {},
   "outputs": [
    {
     "data": {
      "text/plain": [
       "'01000110011001010110100101110011011101000110010101101100'"
      ]
     },
     "execution_count": 408,
     "metadata": {},
     "output_type": "execute_result"
    }
   ],
   "source": [
    "l1"
   ]
  },
  {
   "cell_type": "code",
   "execution_count": 409,
   "metadata": {},
   "outputs": [
    {
     "data": {
      "text/plain": [
       "'00100000010000110110100101110000011010000110010101110010'"
      ]
     },
     "execution_count": 409,
     "metadata": {},
     "output_type": "execute_result"
    }
   ],
   "source": [
    "r1"
   ]
  },
  {
   "cell_type": "markdown",
   "metadata": {},
   "source": [
    "# Key Generation"
   ]
  },
  {
   "cell_type": "code",
   "execution_count": 410,
   "metadata": {},
   "outputs": [],
   "source": [
    "def key_gen(n):\n",
    "    w = ''\n",
    "    n = int(n*0.5)\n",
    "    import random\n",
    "    for i in range(n):\n",
    "        x = str(random.randint(0,1))\n",
    "        w = w + x\n",
    "    return(w)"
   ]
  },
  {
   "cell_type": "code",
   "execution_count": 411,
   "metadata": {},
   "outputs": [
    {
     "name": "stdout",
     "output_type": "stream",
     "text": [
      "Key1:  11101001110100000101111011110011100111010001011100111010\n"
     ]
    }
   ],
   "source": [
    "k1 = key_gen(n)\n",
    "print ('Key1: ',k1)"
   ]
  },
  {
   "cell_type": "code",
   "execution_count": 412,
   "metadata": {},
   "outputs": [
    {
     "name": "stdout",
     "output_type": "stream",
     "text": [
      "Key2:  11001101000110101111010000010010110000000011011110111010\n"
     ]
    }
   ],
   "source": [
    "k2 = key_gen(n)\n",
    "print ('Key2: ',k2)"
   ]
  },
  {
   "cell_type": "markdown",
   "metadata": {},
   "source": [
    "# Encryption"
   ]
  },
  {
   "cell_type": "code",
   "execution_count": 413,
   "metadata": {},
   "outputs": [],
   "source": [
    "def enc(l,r,k):\n",
    "    l2 = r\n",
    "    z = bin(int(r,2) ^ int(k,2))[2:].zfill(len(l))\n",
    "    r2 = bin(int(l,2) ^ int(z,2))[2:].zfill(len(l))\n",
    "    return l2,r2"
   ]
  },
  {
   "cell_type": "code",
   "execution_count": 414,
   "metadata": {},
   "outputs": [
    {
     "name": "stdout",
     "output_type": "stream",
     "text": [
      "L2:  00100000010000110110100101110000011010000110010101110010\n",
      "R2:  10001111111101100101111011110000100000010001011100100100\n"
     ]
    }
   ],
   "source": [
    "l2 , r2 = enc(l1,r1,k1)\n",
    "print ('L2: ',l2)\n",
    "print ('R2: ',r2)"
   ]
  },
  {
   "cell_type": "code",
   "execution_count": 415,
   "metadata": {},
   "outputs": [
    {
     "name": "stdout",
     "output_type": "stream",
     "text": [
      "L3:  10001111111101100101111011110000100000010001011100100100\n",
      "R3:  01100010101011111100001110010010001010010100010111101100\n"
     ]
    }
   ],
   "source": [
    "l3 , r3 = enc(l2,r2,k2)\n",
    "print ('L3: ',l3)\n",
    "print ('R3: ',r3)"
   ]
  },
  {
   "cell_type": "markdown",
   "metadata": {},
   "source": [
    "# Decryption"
   ]
  },
  {
   "cell_type": "code",
   "execution_count": 416,
   "metadata": {},
   "outputs": [],
   "source": [
    "def decryption(l,r,k):\n",
    "    r4 = l\n",
    "    z = bin(int(l,2) ^ int(k,2))[2:].zfill(len(l))\n",
    "    l4 = bin(int(r,2) ^ int(z,2))[2:].zfill(len(l))\n",
    "    return l4 , r4"
   ]
  },
  {
   "cell_type": "code",
   "execution_count": 417,
   "metadata": {},
   "outputs": [
    {
     "name": "stdout",
     "output_type": "stream",
     "text": [
      "L4:  00100000010000110110100101110000011010000110010101110010\n",
      "R4:  10001111111101100101111011110000100000010001011100100100\n"
     ]
    }
   ],
   "source": [
    "l4 , r4 = decryption(l3,r3,k2)\n",
    "print ('L4: ',l4)\n",
    "print ('R4: ',r4)"
   ]
  },
  {
   "cell_type": "code",
   "execution_count": 418,
   "metadata": {},
   "outputs": [
    {
     "name": "stdout",
     "output_type": "stream",
     "text": [
      "L5:  01000110011001010110100101110011011101000110010101101100\n",
      "R5:  00100000010000110110100101110000011010000110010101110010\n"
     ]
    }
   ],
   "source": [
    "l5 , r5 = decryption(l4,r4,k1)\n",
    "print ('L5: ',l5)\n",
    "print ('R5: ',r5)"
   ]
  },
  {
   "cell_type": "code",
   "execution_count": 419,
   "metadata": {},
   "outputs": [
    {
     "name": "stdout",
     "output_type": "stream",
     "text": [
      "Final Decrypted Binary Value:  0100011001100101011010010111001101110100011001010110110000100000010000110110100101110000011010000110010101110010\n"
     ]
    }
   ],
   "source": [
    "o = l5 + r5\n",
    "print ('Final Decrypted Binary Value: ',o)"
   ]
  },
  {
   "cell_type": "code",
   "execution_count": 422,
   "metadata": {},
   "outputs": [
    {
     "name": "stdout",
     "output_type": "stream",
     "text": [
      "Plain Text after Decryption:  \u0000\u0000\u0000\u0000\u0000\u0000\u0000\u0000\u0000\u0000\u0000\u0000\u0000\u0000\u0000\u0000\u0000\u0000\u0000\u0000\u0000\u0000\u0000\u0000\u0000\u0000\u0000\u0000\u0000\u0000\u0000\u0000\u0000\u0000\u0000\u0000\u0000\u0000\u0000\u0000\u0000\u0000\u0000\u0000\u0000\u0000\u0000\u0000\u0000\u0000\u0000\u0000\u0000\u0000\u0000\u0000\u0000\u0000\u0000\u0000\u0000\u0000\u0000\u0000\u0000\u0000\u0000\u0000\u0000\u0000\u0000\u0000\u0000\u0000\u0000\u0000\u0000\u0000\u0000\u0000\u0000\u0000\u0000\u0000\u0000\u0000\u0000\u0000\u0000\u0000\u0000\u0000\u0000\u0000\u0000\u0000\u0000Feistel Cipher\n"
     ]
    }
   ],
   "source": [
    "binary_int = int(o, 2)\n",
    "byte_number = binary_int.bit_length() + 7 // 8\n",
    "\n",
    "binary_array = binary_int.to_bytes(byte_number, \"big\")\n",
    "ascii_text = binary_array.decode(encoding = 'utf-8',errors='replace')\n",
    "\n",
    "print('Plain Text after Decryption: ',ascii_text)"
   ]
  },
  {
   "cell_type": "markdown",
   "metadata": {},
   "source": [
    "# Conclusion"
   ]
  },
  {
   "cell_type": "markdown",
   "metadata": {},
   "source": [
    "This experiment helped us understand the practical implemention of fiestal cipher with two rounds for encryption and decryption. The user input is converted from string to ASCII to binary for encryption and vica versa for decryption.All the bits are concatenated and the following binary representation is equally split into left half and right half. For the first round we use key K1 that is randomly generated. The output of the first round is L2=R1 and R2 is L1 xor R1 xor Key1. In the second round the same steps are followed using key K2 that is also randomly generated by user. For decryption process in the first round R4=L3 and L4=R3 xor L3 xor key K2.In the next round the same process is repeated using Key K1.\n",
    "Thus this method is proved to effective for preventing hacking as for every round a new key generated which XORed with the output of the previous round. Also, the feistel cipher is symmetric as the no of encryption rounds are equal to decryption rounds. Thus, necessary to use the same keys before decryption but in a reverse order."
   ]
  },
  {
   "cell_type": "code",
   "execution_count": null,
   "metadata": {},
   "outputs": [],
   "source": []
  }
 ],
 "metadata": {
  "kernelspec": {
   "display_name": "Python 3",
   "language": "python",
   "name": "python3"
  },
  "language_info": {
   "codemirror_mode": {
    "name": "ipython",
    "version": 3
   },
   "file_extension": ".py",
   "mimetype": "text/x-python",
   "name": "python",
   "nbconvert_exporter": "python",
   "pygments_lexer": "ipython3",
   "version": "3.7.3"
  }
 },
 "nbformat": 4,
 "nbformat_minor": 2
}
