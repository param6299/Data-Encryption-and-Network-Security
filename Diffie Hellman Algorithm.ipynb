{
 "cells": [
  {
   "cell_type": "markdown",
   "metadata": {},
   "source": [
    "# Experiment 9"
   ]
  },
  {
   "cell_type": "markdown",
   "metadata": {},
   "source": [
    "# Param Nagda"
   ]
  },
  {
   "cell_type": "markdown",
   "metadata": {},
   "source": [
    "# Roll No:- C035"
   ]
  },
  {
   "cell_type": "code",
   "execution_count": 1,
   "metadata": {},
   "outputs": [
    {
     "name": "stdout",
     "output_type": "stream",
     "text": [
      "Enter a prime number for Alice: 19\n"
     ]
    }
   ],
   "source": [
    "n = int(input(\"Enter a prime number for Alice: \"))"
   ]
  },
  {
   "cell_type": "code",
   "execution_count": 2,
   "metadata": {},
   "outputs": [
    {
     "name": "stdout",
     "output_type": "stream",
     "text": [
      "Enter a prime number for Bob which is also a primitve root to Alice's no: 3\n"
     ]
    }
   ],
   "source": [
    "g = int(input(\"Enter a prime number for Bob which is also a primitve root to Alice's no: \"))"
   ]
  },
  {
   "cell_type": "code",
   "execution_count": 3,
   "metadata": {},
   "outputs": [
    {
     "name": "stdout",
     "output_type": "stream",
     "text": [
      "Random No for Alice: 6\n",
      "Random No for Bob: 13\n"
     ]
    }
   ],
   "source": [
    "# Select no for Alice and Bob\n",
    "x1 = int(input(\"Random No for Alice: \"))\n",
    "x2 = int(input(\"Random No for Bob: \"))"
   ]
  },
  {
   "cell_type": "code",
   "execution_count": 4,
   "metadata": {},
   "outputs": [
    {
     "name": "stdout",
     "output_type": "stream",
     "text": [
      "Random No 1 for Tom: 9\n",
      "Random No 2 for Tom: 15\n"
     ]
    }
   ],
   "source": [
    "# Select nos for Tom\n",
    "y1 = int(input(\"Random No 1 for Tom: \"))\n",
    "y2 = int(input(\"Random No 2 for Tom: \"))"
   ]
  },
  {
   "cell_type": "code",
   "execution_count": 5,
   "metadata": {},
   "outputs": [],
   "source": [
    "A1 = g**x1%n\n",
    "B1 = g**x2%n\n",
    "\n",
    "A2 = g**y1%n\n",
    "B2 = g**y2%n"
   ]
  },
  {
   "cell_type": "code",
   "execution_count": 6,
   "metadata": {},
   "outputs": [],
   "source": [
    "K1 = B2**x1%n\n",
    "K2 = A2**x2%n\n",
    "\n",
    "TK1 = B1**y1%n\n",
    "TK2 = A1**y2%n"
   ]
  },
  {
   "cell_type": "code",
   "execution_count": 7,
   "metadata": {},
   "outputs": [
    {
     "data": {
      "text/plain": [
       "1"
      ]
     },
     "execution_count": 7,
     "metadata": {},
     "output_type": "execute_result"
    }
   ],
   "source": [
    "K1"
   ]
  },
  {
   "cell_type": "code",
   "execution_count": 8,
   "metadata": {},
   "outputs": [
    {
     "data": {
      "text/plain": [
       "18"
      ]
     },
     "execution_count": 8,
     "metadata": {},
     "output_type": "execute_result"
    }
   ],
   "source": [
    "K2"
   ]
  },
  {
   "cell_type": "code",
   "execution_count": 9,
   "metadata": {},
   "outputs": [
    {
     "data": {
      "text/plain": [
       "18"
      ]
     },
     "execution_count": 9,
     "metadata": {},
     "output_type": "execute_result"
    }
   ],
   "source": [
    "TK1"
   ]
  },
  {
   "cell_type": "code",
   "execution_count": 10,
   "metadata": {},
   "outputs": [
    {
     "data": {
      "text/plain": [
       "1"
      ]
     },
     "execution_count": 10,
     "metadata": {},
     "output_type": "execute_result"
    }
   ],
   "source": [
    "TK2"
   ]
  },
  {
   "cell_type": "markdown",
   "metadata": {},
   "source": [
    "# Conclusion"
   ]
  },
  {
   "cell_type": "markdown",
   "metadata": {},
   "source": [
    "Diffie Hellman Algorithm (DH) Diffie Hellman (DH) key exchange algorithm is a method for securely exchanging cryptographic keys over a public communications channel. Keys are not actually exchanged they are jointly derived hence they are not known on the public channel.Only the Large prime number and primitive root are publicly available. We see that both the users have the same secret key.\n",
    "In the second case when a middle man tries to attack the keys he does so by using the Large prime number and primitive root.The attacker intercepts between the channel of the two users and exhanges his computed A with the first user's A and his B with the second user's B.Thus the secret key computed for the two users don't match that is first user's secret key matches with middle man's second secret key and second user's secret key matches withe the middle man's first key.\n",
    "Thus this algorithm can be used only for symmetric key exchange and as there is no authentication involved, it is vulnerable to man-in-the-middle attack."
   ]
  }
 ],
 "metadata": {
  "kernelspec": {
   "display_name": "Python 3",
   "language": "python",
   "name": "python3"
  },
  "language_info": {
   "codemirror_mode": {
    "name": "ipython",
    "version": 3
   },
   "file_extension": ".py",
   "mimetype": "text/x-python",
   "name": "python",
   "nbconvert_exporter": "python",
   "pygments_lexer": "ipython3",
   "version": "3.7.3"
  }
 },
 "nbformat": 4,
 "nbformat_minor": 2
}
